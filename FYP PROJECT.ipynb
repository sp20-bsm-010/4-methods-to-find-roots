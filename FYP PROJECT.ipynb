{
 "cells": [
  {
   "cell_type": "markdown",
   "id": "f98de7d3",
   "metadata": {},
   "source": [
    "#                                   BISECTION METHOD "
   ]
  },
  {
   "cell_type": "markdown",
   "id": "9793b169",
   "metadata": {},
   "source": [
    "# Merits"
   ]
  },
  {
   "cell_type": "markdown",
   "id": "83cc717d",
   "metadata": {},
   "source": [
    "1) Bisection method is bracketing method and it is always convergent.  \n",
    "\n",
    "2) Bisection method does not require any complex calculations. To perform Bisection method,\n",
    "   all we need is to calculate average of two numbers.\n",
    "   \n",
    "3) The error bound decreases by ½ with each iteration.\n",
    "\n",
    "4) Bisection method is very simple and easy to program in computer.\n",
    "\n",
    "5) Bisection method is fast in case of multiple roots."
   ]
  },
  {
   "cell_type": "markdown",
   "id": "0c7040de",
   "metadata": {},
   "source": [
    "# Demerits"
   ]
  },
  {
   "cell_type": "markdown",
   "id": "8e0bfba3",
   "metadata": {},
   "source": [
    "1) It is incapable of determining complex roots.\n",
    "\n",
    "2) If the guess interval contains discontinuities, it cannot be used.\n",
    "\n",
    "3) It cannot be applied over an interval where the function returns values of the same sign.\n"
   ]
  },
  {
   "cell_type": "code",
   "execution_count": 1,
   "id": "5320b897",
   "metadata": {},
   "outputs": [],
   "source": [
    "import numpy as np"
   ]
  },
  {
   "cell_type": "code",
   "execution_count": 1,
   "id": "bbf6e3a7",
   "metadata": {},
   "outputs": [],
   "source": [
    "\n",
    "import matplotlib.pyplot as plt\n",
    "\n"
   ]
  },
  {
   "cell_type": "markdown",
   "id": "2d6af5d6",
   "metadata": {},
   "source": [
    "\n",
    "# ALGORITHM\n"
   ]
  },
  {
   "cell_type": "markdown",
   "id": "04bdf142",
   "metadata": {},
   "source": [
    "1. start\n",
    "\n",
    "2. Define function f(x)\n",
    "\n",
    "3. Choose initial guesses 'a' and 'b' such that f(a)f(b) < 0\n",
    "\n",
    "4. Choose pre-specified tolerable error e.\n",
    "\n",
    "5. Calculate new approximated root as c = (a + b)/2\n",
    "\n",
    "6. if c < 0 (nagetive) then assign c = a or if c > 0 (positive) the assign c = b.\n",
    "\t\n",
    "7. reapeat the process till when we do not repeat value of c upto 4 decimal places\n",
    "\n",
    "8. Display c as root.\n",
    "\n",
    "9. Stop"
   ]
  },
  {
   "cell_type": "code",
   "execution_count": 4,
   "id": "b210f9d5",
   "metadata": {},
   "outputs": [
    {
     "name": "stdout",
     "output_type": "stream",
     "text": [
      "first guess: 2\n",
      "second guess: 3\n",
      "tolerance: 0.001\n",
      "iteration 1, x2 = 2.5000 and f(x2)= -5.8750\n",
      "iteration 2, x2 = 2.7500 and f(x2)= -1.9531\n",
      "iteration 3, x2 = 2.8750 and f(x2)= 0.3887\n",
      "iteration 4, x2 = 2.8125 and f(x2)= -0.8152\n",
      "iteration 5, x2 = 2.8438 and f(x2)= -0.2216\n",
      "iteration 6, x2 = 2.8594 and f(x2)= 0.0814\n",
      "iteration 7, x2 = 2.8516 and f(x2)= -0.0706\n",
      "iteration 8, x2 = 2.8555 and f(x2)= 0.0053\n",
      "iteration 9, x2 = 2.8535 and f(x2)= -0.0327\n",
      "iteration 10, x2 = 2.8545 and f(x2)= -0.0137\n",
      "iteration 11, x2 = 2.8550 and f(x2)= -0.0042\n",
      "iteration 12, x2 = 2.8552 and f(x2)= 0.0005\n",
      "root is :2.8552 \n"
     ]
    }
   ],
   "source": [
    "# guess1 = 2, guess2 = 3\n",
    "from math import sin\n",
    "def bisection(x0,x1,e): #define bisection method\n",
    "    step = 1# first no mof itteratiom\n",
    "    condition = True #condition statement which is true\n",
    "    while condition: # while loop its true or executed\n",
    "        x2 = (x0+x1)/2 # formula of bisection method\n",
    "        print('iteration %d, x2 = %0.4f and f(x2)= %0.4f' %(step,x2,f(x2))) \n",
    "\n",
    "        if f(x0) * f(x2) < 0: # condition product of  point less than zero\n",
    "            x1 = x2 #if satisfied tha  x2 assign x1\n",
    "        else:\n",
    "            x0 = x2 # if not than x0 is replace by x2\n",
    "        step = step +1 #imcremint in itteration\n",
    "        condition = abs(f(x2)) > e # itteration \n",
    "    print('root is :%0.4f '%x2)\n",
    "#    return x2\n",
    "\n",
    "def f(x): # def func\n",
    "    return x**3-5*x-9 # func\n",
    "\n",
    "x0 = float(input('first guess: ')) # input 1\n",
    "x1 = float(input('second guess: ')) # input 2\n",
    "e  = float(input('tolerance: '))  #input 3\n",
    "\n",
    "if f(x0) * f(x1) > 0.0: #appplu function \n",
    "    print('given guess values do not bracket the root')\n",
    "else:\n",
    "    root = bisection(x0,x1,e) # if falsefalse than given another value move to bisection method\n",
    "    \n",
    "    "
   ]
  },
  {
   "cell_type": "markdown",
   "id": "bc20263e",
   "metadata": {},
   "source": [
    " # while loop condition\n",
    "is a condition that is evaluated before each iteration of the while loop. If the condition evaluates to True, the loop will execute. If it evaluates to False, the loop will not execute and the program flow will continue on to the next statement after the while loop.\n",
    "\n",
    "# %d\n",
    "is a placeholder for an integer value. It is used in the Python string formatting syntax to indicate that an integer value should be inserted into the string at that point.\n",
    "\n",
    "#  %0.6f\n",
    "placeholder for a floating point value with 6 decimal places.\n"
   ]
  },
  {
   "cell_type": "markdown",
   "id": "d64c4fcc",
   "metadata": {},
   "source": [
    "# Graph"
   ]
  },
  {
   "cell_type": "code",
   "execution_count": 7,
   "id": "feb1c78f",
   "metadata": {},
   "outputs": [
    {
     "data": {
      "image/png": "[encoded data removed]",
      "text/plain": [
       "<Figure size 432x288 with 1 Axes>"
      ]
     },
     "metadata": {
      "needs_background": "light"
     },
     "output_type": "display_data"
    }
   ],
   "source": [
    "\n",
    "import matplotlib.pyplot as plt\n",
    "import numpy as np\n",
    "\n",
    "x = np.arange(-1000, 1000, 0.1) # x axis from -1000 to 999.9\n",
    "y = x**3 - 5*x - 9           # y axis corresponding to x**3 - 5*x - 9 \n",
    "\n",
    "plt.plot(x, y) # plot the graph\n",
    "plt.xlim(-0.0001, 4.0000) # set x axis limit\n",
    "plt.ylim(-0.0001, 3.0000) # set y axis limit\n",
    "plt.xlabel('X-axis') # label the x axis\n",
    "plt.ylabel('Y-axis') # label the y axis\n",
    "plt.title('y = x**3 - 5*x - 9') # add title to the graph\n",
    "plt.grid(True) # add grid lines\n",
    "plt.show() # show the graph\n"
   ]
  },
  {
   "cell_type": "markdown",
   "id": "616344a8",
   "metadata": {},
   "source": [
    "# Secant Method"
   ]
  },
  {
   "cell_type": "markdown",
   "id": "c4a4c56b",
   "metadata": {},
   "source": [
    "The Newton-Raphson method is a way to quickly find a good approximation for the \n",
    "root of a real-valued function f ( x ) = 0 f(x) = 0 f(x)=0. It uses the idea that a continuous and \n",
    "differentiable function can be approximated by a straight line tangent to it."
   ]
  },
  {
   "cell_type": "markdown",
   "id": "e78eebc2",
   "metadata": {},
   "source": [
    "# Advantages"
   ]
  },
  {
   "cell_type": "markdown",
   "id": "0569ec03",
   "metadata": {},
   "source": [
    "1. One of the fastest methods which converges to root quickly. \n",
    "2. Converges on the root quadraticallyi.e rate of convergence \n",
    "3. As we go near to root, number of significant digits approximately doubles with each \n",
    "    step."
   ]
  },
  {
   "cell_type": "markdown",
   "id": "0fa6ddba",
   "metadata": {},
   "source": [
    "# Disadvantages"
   ]
  },
  {
   "cell_type": "markdown",
   "id": "f81156ac",
   "metadata": {},
   "source": [
    "1. its convergebce is not guranteed\n",
    "2. Division by zero problems can occur.\n",
    "3. root jumping might take place there by not getting intended solution.\n",
    "4. in case of multiple roots , the method converges slowly"
   ]
  },
  {
   "cell_type": "markdown",
   "id": "5c1630a2",
   "metadata": {},
   "source": [
    "# Algorithm"
   ]
  },
  {
   "cell_type": "markdown",
   "id": "6d0d96f0",
   "metadata": {},
   "source": [
    "1. We have a function \n",
    "2. Taking derivatives of the function \n",
    "3. Remember derivative must not =0  \n",
    "4. Our root is always in +ve and –ve point \n",
    "5. We take only one initial guess between these points \n",
    "6. Formula:xn+1=xn-f (xn) \\f’(xn) \n"
   ]
  },
  {
   "cell_type": "code",
   "execution_count": null,
   "id": "fc47744f",
   "metadata": {},
   "outputs": [],
   "source": [
    "from math import sin\n",
    "def secant(fn,x1,x2,tol,maxiter): # def secant\n",
    "    for i in range(maxiter):  #startv itteration to maxiter\n",
    "        xnew  = x2 - (x2-x1)/(fn(x2)-fn(x1))*fn(x2) #finding root by secant formula\n",
    "        if abs(xnew-x2) < tol: # iff error less than tolertance\n",
    "            break  # than break \n",
    "        else:  # if not than go to else statement\n",
    "            x1 = x2 #x1 is replace by x2\n",
    "            x2 = xnew #xnew is replace by x1\n",
    "    else:  # if not than go to else statement\n",
    "        print('warning: Maximum number of iterations is reached')\n",
    "    return xnew, i\n",
    "\n",
    "f = lambda x: 2*x**2 - 5*x + 3 # given func\n",
    "\n",
    "x1 = float(input('enter x1: ')) # input 1\n",
    "x2 = float(input('enter x2: ')) #input 2\n",
    "\n",
    "r, n = secant(f,x1,x2,1.0e-6,100) #def root and no itteration\n",
    "\n",
    "print('Root = %f at %d iterations'%(r,n)) #print  root and no itteration"
   ]
  },
  {
   "cell_type": "markdown",
   "id": "e7bf4b99",
   "metadata": {},
   "source": [
    "# Graph"
   ]
  },
  {
   "cell_type": "code",
   "execution_count": 13,
   "id": "57c8d38b",
   "metadata": {},
   "outputs": [
    {
     "data": {
      "image/png": "[encoded data removed]",
      "text/plain": [
       "<Figure size 432x288 with 1 Axes>"
      ]
     },
     "metadata": {
      "needs_background": "light"
     },
     "output_type": "display_data"
    }
   ],
   "source": [
    "import matplotlib.pyplot as plt\n",
    "import numpy as np\n",
    "\n",
    "x = np.arange(-1000, 1000, 0.1) # x axis from -1000 to 999.9\n",
    "y = 2*x**2 - 5*x + 3         # y axis corresponding to 2*x**2 - 5*x + 3 \n",
    "\n",
    "plt.plot(x, y) # plot the graph\n",
    "plt.xlim(-0.0001, 4.0000) # set x axis limit\n",
    "plt.ylim(-0.0001, 3.0000) # set y axis limit\n",
    "plt.xlabel('X-axis') # label the x axis\n",
    "plt.ylabel('Y-axis') # label the y axis\n",
    "plt.title('y = 2*x**2 - 5*x + 3') # add title to the graph\n",
    "plt.grid(True) # add grid lines\n",
    "plt.show() # show the graph"
   ]
  },
  {
   "cell_type": "markdown",
   "id": "23305c50",
   "metadata": {},
   "source": [
    "# Newton Raphson Method"
   ]
  },
  {
   "cell_type": "markdown",
   "id": "535c52c7",
   "metadata": {},
   "source": [
    "The Newton-Raphson method is a way to quickly find a good approximation for the \n",
    "root of a real-valued function f ( x ) = 0 f(x) = 0 f(x)=0. It uses the idea that a continuous and \n",
    "differentiable function can be approximated by a straight line tangent to it."
   ]
  },
  {
   "cell_type": "markdown",
   "id": "cd82910b",
   "metadata": {},
   "source": [
    "# Advantages"
   ]
  },
  {
   "cell_type": "markdown",
   "id": "c1b1e391",
   "metadata": {},
   "source": [
    "1. One of the fastest methods which converges to root quickly. \n",
    "2. Converges on the root quadraticallyi.e rate of convergence \n",
    "3. As we go near to root, number of significant digits approximately doubles with each \n",
    "   step.\n",
    "  \n",
    "  It makes this method useful to get precise results for a root which was previously obtained \n",
    "from some other convergence method. 5. Easy to convert to multiple dimension."
   ]
  },
  {
   "cell_type": "markdown",
   "id": "3568f802",
   "metadata": {},
   "source": [
    "# Disadvantages"
   ]
  },
  {
   "cell_type": "markdown",
   "id": "60d8dc48",
   "metadata": {},
   "source": [
    "1. It's convergence is not guaranteed.\n",
    "2. Division by zero problems can occur.\n",
    "3. Root jumping might take place thereby not getting intended solution.\n",
    "4. Inflection point issue might occur.\n",
    "5. Symbolic derivative is required.\n",
    "6. In case of multiple roots, this method converges slowly.\n"
   ]
  },
  {
   "cell_type": "code",
   "execution_count": null,
   "id": "9794fcd2",
   "metadata": {},
   "outputs": [],
   "source": [
    "from math import sin\n",
    "def newton(fn,dfn,x,tol,maxiter): # def newton raphson\n",
    "    for i in range(maxiter):# using for loop to start itteration till mixter\n",
    "        xnew = x - fn(x)/dfn(x) #newton raphson formula\n",
    "        if abs(xnew-x)<tol:    #error less than tolertance                      \n",
    "            break #than break\n",
    "        x = xnew #than x is new\n",
    "    return xnew, i\n",
    "\n",
    "y = lambda x: 2*x**3-9.5*x+7.5 #function\n",
    "dy = lambda x : 6*x**2-9.5  #derivation of function\n",
    "\n",
    "x, n = newton(y, dy, 5, 0.0001, 100) #calliong the function\n",
    "print('the root is %.3f at %d iterations.'%(x,n))"
   ]
  },
  {
   "cell_type": "code",
   "execution_count": null,
   "id": "f9f2f3b1",
   "metadata": {},
   "outputs": [],
   "source": [
    "def secant_method(f, x0, x1, tol=1e-6, max_iter=100):\n",
    "    \"\"\"\n",
    "    Implementation of the Secant method for finding roots of a function.\n",
    "\n",
    "    Parameters:\n",
    "    f (function): The function for which to find a root.\n",
    "    x0 (float): The first initial point.\n",
    "    x1 (float): The second initial point.\n",
    "    tol (float, optional): The tolerance for the stopping criterion. Defaults to 1e-6.\n",
    "    max_iter (int, optional): The maximum number of iterations. Defaults to 100.\n",
    "\n",
    "    Returns:\n",
    "    float: The root of the function.\n",
    "    \"\"\"\n",
    "    i = 0\n",
    "    while i < max_iter:\n",
    "        x2 = x1 - f(x1) * (x1 - x0) / (f(x1) - f(x0))\n",
    "        if abs(x2 - x1) < tol:\n",
    "            return x2\n",
    "        x0, x1 = x1, x2\n",
    "        i += 1\n",
    "    return None\n",
    "\n",
    "# Example usage:\n",
    "f = lambda x: x**3 - x - 1\n",
    "x0 = int(input(\"Enter first initial point: \"))\n",
    "x1 = int(input(\"Enter second initial point: \"))\n",
    "root = secant_method(f, x0, x1)\n",
    "print(\"The root of the function is:\", root)\n"
   ]
  },
  {
   "cell_type": "code",
   "execution_count": null,
   "id": "14c8cfa3",
   "metadata": {},
   "outputs": [],
   "source": []
  }
 ],
 "metadata": {
  "kernelspec": {
   "display_name": "Python 3 (ipykernel)",
   "language": "python",
   "name": "python3"
  },
  "language_info": {
   "codemirror_mode": {
    "name": "ipython",
    "version": 3
   },
   "file_extension": ".py",
   "mimetype": "text/x-python",
   "name": "python",
   "nbconvert_exporter": "python",
   "pygments_lexer": "ipython3",
   "version": "3.9.7"
  }
 },
 "nbformat": 4,
 "nbformat_minor": 5
}
