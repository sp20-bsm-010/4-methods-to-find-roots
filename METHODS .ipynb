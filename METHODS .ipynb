{
 "cells": [
  {
   "cell_type": "code",
   "execution_count": 1,
   "id": "d6ff061d",
   "metadata": {},
   "outputs": [
    {
     "name": "stdout",
     "output_type": "stream",
     "text": [
      "first guess: 2\n",
      "second guess: 3\n",
      "tolerance: 0.01\n",
      "iteration 1, x2 = 2.500000 and f(x2)= -5.875000\n",
      "iteration 2, x2 = 2.750000 and f(x2)= -1.953125\n",
      "iteration 3, x2 = 2.875000 and f(x2)= 0.388672\n",
      "iteration 4, x2 = 2.812500 and f(x2)= -0.815186\n",
      "iteration 5, x2 = 2.843750 and f(x2)= -0.221588\n",
      "iteration 6, x2 = 2.859375 and f(x2)= 0.081448\n",
      "iteration 7, x2 = 2.851562 and f(x2)= -0.070592\n",
      "iteration 8, x2 = 2.855469 and f(x2)= 0.005297\n",
      "root is :2.85546875 \n"
     ]
    }
   ],
   "source": [
    "# guess1 = 2, guess2 = 3\n",
    "from math import sin\n",
    "def bisection(x0,x1,e): #define bisection method\n",
    "    step = 1# first no mof itteratiom\n",
    "    condition = True #condition statement which is true\n",
    "    while condition: # while loop its true or executed\n",
    "        x2 = (x0+x1)/2 # formula of bisection method\n",
    "        print('iteration %d, x2 = %0.6f and f(x2)= %0.6f' %(step,x2,f(x2)))\n",
    "        \n",
    "        if f(x0) * f(x2) < 0: # condition product of  point less than zero\n",
    "            x1 = x2 #if satisfied tha  x2 assign x1\n",
    "        else:\n",
    "            x0 = x2 # if not than x0 is replace by x2\n",
    "        step = step +1 #imcremint in itteration\n",
    "        condition = abs(f(x2)) > e # itteration \n",
    "    print('root is :%0.8f '%x2)\n",
    "#    return x2\n",
    "\n",
    "def f(x): # def func\n",
    "    return x**3-5*x-9 # func\n",
    "\n",
    "x0 = float(input('first guess: ')) # input 1\n",
    "x1 = float(input('second guess: ')) # input 2\n",
    "e  = float(input('tolerance: '))  #input 3\n",
    "\n",
    "if f(x0) * f(x1) > 0.0: #appplu function \n",
    "    print('given guess values do not bracket the root')\n",
    "else:\n",
    "    root = bisection(x0,x1,e) # if falsefalse than given another value move to bisection method\n",
    "    "
   ]
  },
  {
   "cell_type": "code",
   "execution_count": 2,
   "id": "20625297",
   "metadata": {},
   "outputs": [
    {
     "name": "stdout",
     "output_type": "stream",
     "text": [
      "the root is 1.500 at 7 iterations.\n"
     ]
    }
   ],
   "source": [
    "from math import sin\n",
    "def newton(fn,dfn,x,tol,maxiter): # def newton raphson\n",
    "    for i in range(maxiter):# using for loop to start itteration till mixter\n",
    "        xnew = x - fn(x)/dfn(x) #newton raphson formula\n",
    "        if abs(xnew-x)<tol:    #error less than tolertance                      \n",
    "            break #than break\n",
    "        x = xnew #than x is new\n",
    "    return xnew, i\n",
    "\n",
    "y = lambda x: 2*x**3-9.5*x+7.5 #function\n",
    "dy = lambda x : 6*x**2-9.5  #derivation of function\n",
    "\n",
    "x, n = newton(y, dy, 5, 0.0001, 100) #calliong the function\n",
    "print('the root is %.3f at %d iterations.'%(x,n))\n"
   ]
  },
  {
   "cell_type": "code",
   "execution_count": 3,
   "id": "1b33fbe0",
   "metadata": {},
   "outputs": [
    {
     "name": "stdout",
     "output_type": "stream",
     "text": [
      "enter x1: 0\n",
      "enter x2: 1\n",
      "The root = 0.250324 at 4 false position\n"
     ]
    }
   ],
   "source": [
    "from math import sin\n",
    "def reg_falsi(f,x1,x2,tol=1.0e-6,maxfpos=100):# def regular false method\n",
    "    \n",
    "    if f(x1) * f(x2)<0: # condition function x1 and x2 shoul be less than 0\n",
    "        for fpos in range(1,maxfpos+1)#starting no of itterationif above is true from 1\n",
    "            xh = x2 - (x2-x1)/(f(x2)-f(x1)) * f(x2) #regular false method formula\n",
    "            if abs(f(xh)) < tol:  #if error lee than tolerance \n",
    "                break  # than  break\n",
    "            elif f(x1) * f(xh) < 0: # if false than check\n",
    "                x2 = xh # repalce x2 with xh\n",
    "            else:\n",
    "                x1 = xh # repalce x1 with xh\n",
    "    else: # if both not true the print this\n",
    "        print('No roots exists within the given interval')\n",
    "        \n",
    "    return xh, fpos\n",
    "\n",
    "y = lambda x: x**2 - sin(x)**2 - 4*x + 1 #function\n",
    "\n",
    "x1 = float(input('enter x1: ')) #input x1\n",
    "x2 = float(input('enter x2: ')) #input x2\n",
    "\n",
    "r, n = reg_falsi(y,x1,x2)\n",
    "print('The root = %f at %d false position'%(r,n)) #printing the result\n"
   ]
  },
  {
   "cell_type": "code",
   "execution_count": 4,
   "id": "f53b9006",
   "metadata": {},
   "outputs": [
    {
     "name": "stdout",
     "output_type": "stream",
     "text": [
      "enter x1: -2\n",
      "enter x2: 2\n",
      "Root = 1.500000 at 8 iterations\n"
     ]
    }
   ],
   "source": [
    "from math import sin\n",
    "def secant(fn,x1,x2,tol,maxiter): # def secant\n",
    "    for i in range(maxiter):  #startv itteration to maxiter\n",
    "        xnew  = x2 - (x2-x1)/(fn(x2)-fn(x1))*fn(x2) #finding root by secant formula\n",
    "        if abs(xnew-x2) < tol: # iff error less than tolertance\n",
    "            break  # than break \n",
    "        else:  # if not than go to else statement\n",
    "            x1 = x2 #x1 is replace by x2\n",
    "            x2 = xnew #xnew is replace by x1\n",
    "    else:  # if not than go to else statement\n",
    "        print('warning: Maximum number of iterations is reached')\n",
    "    return xnew, i\n",
    "\n",
    "f = lambda x: 2*x**2 - 5*x + 3 # given func\n",
    "\n",
    "x1 = float(input('enter x1: ')) # input 1\n",
    "x2 = float(input('enter x2: ')) #input 2\n",
    "\n",
    "r, n = secant(f,x1,x2,1.0e-6,100) #def root and no itteration\n",
    "\n",
    "print('Root = %f at %d iterations'%(r,n)) #print  root and no itteration\n"
   ]
  },
  {
   "cell_type": "code",
   "execution_count": null,
   "id": "c3f13c1e",
   "metadata": {},
   "outputs": [],
   "source": []
  }
 ],
 "metadata": {
  "kernelspec": {
   "display_name": "Python 3 (ipykernel)",
   "language": "python",
   "name": "python3"
  },
  "language_info": {
   "codemirror_mode": {
    "name": "ipython",
    "version": 3
   },
   "file_extension": ".py",
   "mimetype": "text/x-python",
   "name": "python",
   "nbconvert_exporter": "python",
   "pygments_lexer": "ipython3",
   "version": "3.9.7"
  }
 },
 "nbformat": 4,
 "nbformat_minor": 5
}
